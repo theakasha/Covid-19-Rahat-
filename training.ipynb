{
 "cells": [
  {
   "cell_type": "code",
   "execution_count": 8,
   "metadata": {},
   "outputs": [
    {
     "name": "stderr",
     "output_type": "stream",
     "text": [
      "[nltk_data] Downloading package punkt to /home/disaster/nltk_data...\n",
      "[nltk_data]   Package punkt is already up-to-date!\n",
      "[nltk_data] Downloading package wordnet to /home/disaster/nltk_data...\n",
      "[nltk_data]   Package wordnet is already up-to-date!\n"
     ]
    }
   ],
   "source": [
    "import pandas as pd\n",
    "from langdetect import detect\n",
    "import string\n",
    "import emoji\n",
    "from sklearn.feature_extraction.text import CountVectorizer\n",
    "from sklearn.feature_extraction.text import ENGLISH_STOP_WORDS\n",
    "from sklearn.metrics.pairwise import cosine_similarity\n",
    "import mlflow\n",
    "from mlflow import pyfunc\n",
    "import requests\n",
    "import boto3\n",
    "import json\n",
    "\n",
    "import nltk\n",
    "from nltk import word_tokenize\n",
    "from nltk.stem import WordNetLemmatizer\n",
    "nltk.download('punkt')\n",
    "nltk.download('wordnet')\n",
    "pd.set_option('display.max_rows',500)\n"
   ]
  },
  {
   "cell_type": "code",
   "execution_count": 17,
   "metadata": {},
   "outputs": [],
   "source": [
    "raw_github_data=pd.read_csv('tsv/2020-06-22.tsv',sep='\\t',header=0)"
   ]
  },
  {
   "cell_type": "code",
   "execution_count": 15,
   "metadata": {},
   "outputs": [],
   "source": [
    "raw_github_data_filtered=raw_github_data[(raw_github_data['has_merged_prs']==True)&(raw_github_data['has_readme']==True)&\n",
    "                                         (pd.isna(raw_github_data['repo_description'])==False)&\n",
    "                                         (pd.isna(raw_github_data['primary_language_name'])==False)&\n",
    "                                         (raw_github_data['count_distinct_contributors']>=2)]"
   ]
  },
  {
   "cell_type": "code",
   "execution_count": 16,
   "metadata": {},
   "outputs": [],
   "source": [
    "def detect_with_error_handle(x):\n",
    "    try:\n",
    "        return detect(x)\n",
    "    except:\n",
    "        return 'Error'\n",
    "def has_only_latin_characters(text):\n",
    "    char_set=string.printable+'-'\n",
    "    return all(True if x in char_set else False for x in text)\n",
    "def remove_punctuation(text):\n",
    "    punctuation_list=string.punctuation+'-'\n",
    "    return text.translate(str.maketrans('','',punctuation_list))\n"
   ]
  },
  {
   "cell_type": "code",
   "execution_count": null,
   "metadata": {},
   "outputs": [],
   "source": []
  }
 ],
 "metadata": {
  "kernelspec": {
   "display_name": "Python 3.7.7 64-bit",
   "language": "python",
   "name": "python37764bit51e1de4c97a242c78f8fc5f49b38f717"
  },
  "language_info": {
   "codemirror_mode": {
    "name": "ipython",
    "version": 3
   },
   "file_extension": ".py",
   "mimetype": "text/x-python",
   "name": "python",
   "nbconvert_exporter": "python",
   "pygments_lexer": "ipython3",
   "version": "3.7.7"
  }
 },
 "nbformat": 4,
 "nbformat_minor": 4
}
